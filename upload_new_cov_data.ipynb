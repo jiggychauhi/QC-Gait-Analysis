{
 "cells": [
  {
   "cell_type": "code",
   "execution_count": 1,
   "metadata": {},
   "outputs": [],
   "source": [
    "import pickle\n",
    "import numpy as np"
   ]
  },
  {
   "cell_type": "markdown",
   "metadata": {},
   "source": [
    "# TRAIN TEST DATA"
   ]
  },
  {
   "cell_type": "code",
   "execution_count": 2,
   "metadata": {},
   "outputs": [],
   "source": [
    "with open('data/densetnet201-4-CovsDict.pkl', 'rb') as file:\n",
    "    dict_covs = pickle.load(file)"
   ]
  },
  {
   "cell_type": "code",
   "execution_count": 7,
   "metadata": {},
   "outputs": [
    {
     "data": {
      "text/plain": [
       "(72, 20, 20)"
      ]
     },
     "execution_count": 7,
     "metadata": {},
     "output_type": "execute_result"
    }
   ],
   "source": [
    "# dict_covs.keys()\n",
    "dict_covs['CG_0001']['0001'].shape"
   ]
  },
  {
   "cell_type": "code",
   "execution_count": 15,
   "metadata": {},
   "outputs": [
    {
     "name": "stdout",
     "output_type": "stream",
     "text": [
      "New total of subjects: 37 | Control: 23 | Parkinson: 14\n",
      "Total of Control subjects we have been used: 11 | Parkinson: 11\n",
      "Total of Control subjects we can now test: 12 | Parkinson: 3\n",
      "Everyone has 8 video samples. Just in the test subjects there are 2 patients with 16 samples. \n",
      "Test subjects: Control --> ['CG_0023', 'CG_0024', 'CG_0025', 'CG_0027', 'CG_0030', 'CG_0039', 'CG_0040', 'CG_0041', 'CG_0042', 'CG_0043', 'CG_0044', 'CG_0045']   |  Parkinson --> ['PG_0026', 'PG_0028', 'PG_0029']\n",
      "Subject PG_0028 keys: dict_keys(['0001', '0002', '0003', '0004', '0005', '0006', '0007', '0008', '0009', '0010', '0011', '0012', '0013', '0014', '0015', '0016'])\n",
      "Subject PG_0029 keys: dict_keys(['0001', '0002', '0003', '0004', '0005', '0006', '0007', '0008', '0009', '0010', '0011', '0012', '0013', '0014', '0015', '0016'])\n"
     ]
    }
   ],
   "source": [
    "number_of_subjects = len(dict_covs.keys())\n",
    "control_subjects = [key for key in dict_covs.keys() if 'CG' in key]\n",
    "parkinson_subjects = [key for key in dict_covs.keys() if 'PG' in key]\n",
    "trainval_control_subject = control_subjects[:11]\n",
    "trainval_parkinson_subject = parkinson_subjects[:11]\n",
    "test_control_subject = control_subjects[11:]\n",
    "test_parkinson_subject = parkinson_subjects[11:]\n",
    "\n",
    "print(f'New total of subjects: {number_of_subjects} | Control: {len(control_subjects)} | Parkinson: {len(parkinson_subjects)}')\n",
    "print(f'Total of Control subjects we have been used: {len(trainval_control_subject)} | Parkinson: {len(trainval_parkinson_subject)}')\n",
    "print(f'Total of Control subjects we can now test: {len(test_control_subject)} | Parkinson: {len(test_parkinson_subject)}')\n",
    "\n",
    "print(f'Everyone has 8 video samples. Just in the test subjects there are 2 patients with 16 samples. ')\n",
    "print(f'Test subjects: Control --> {test_control_subject}   |  Parkinson --> {test_parkinson_subject}')\n",
    "print(f'Subject PG_0028 keys: {dict_covs[\"PG_0028\"].keys()}')\n",
    "print(f'Subject PG_0029 keys: {dict_covs[\"PG_0029\"].keys()}')\n"
   ]
  },
  {
   "cell_type": "markdown",
   "metadata": {},
   "source": [
    "# LOAD EXTERNAL DATA\n",
    "\n",
    "<!-- Nomenclature:\n",
    "\n",
    "KOA == 'Knee osteoarthritis'\n",
    "    \n",
    "    - early == mild osteoarthritis.\n",
    "    \n",
    "    - middle == moderate osteoarthritis.\n",
    "    \n",
    "    - severe == severe osteoarthritis. \n",
    "\n",
    "NM == 'Normals'\n",
    "\n",
    "PD == 'Parkinson Disease'\n",
    "    \n",
    "    - middle == mild PD.\n",
    "    \n",
    "    - middleLate == moderate PD.\n",
    "    \n",
    "    - severe == severe PD.  -->"
   ]
  },
  {
   "cell_type": "code",
   "execution_count": 18,
   "metadata": {},
   "outputs": [],
   "source": [
    "dict_data_covs = {\n",
    "    # Knee osteoarthritis (KOA) \n",
    "    'KOA_mild': 'data/densetnet201-4_covs_KOA_early.pkl',\n",
    "    'KOA_moderate': 'data/densetnet201-4_covs_KOA_middle.pkl',\n",
    "    'KOA_severe': 'data/densetnet201-4_covs_KOA_severe.pkl',\n",
    "    # Normal (NM)\n",
    "    'NM': 'data/densetnet201-4_covs_NM.pkl',\n",
    "    # Parkinson Disease (PD)\n",
    "    'PD_mild': 'data/densetnet201-4_covs_PD_middle.pkl',\n",
    "    'PD_moderate': 'data/densetnet201-4_covs_PD_middleLate.pkl',\n",
    "    'PD_severe': 'data/densetnet201-4_covs_PD_severe.pkl',\n",
    "}\n",
    "\n",
    "selected_data = 'KOA_severe'\n",
    "\n",
    "with open(dict_data_covs[selected_data], 'rb') as file:\n",
    "    dict_covs = pickle.load(file)"
   ]
  },
  {
   "cell_type": "code",
   "execution_count": 22,
   "metadata": {},
   "outputs": [
    {
     "name": "stdout",
     "output_type": "stream",
     "text": [
      "ALL subjects are from the same class:  [KOA_severe]\n",
      "Total of video fragments for this class: 172\n",
      "Each one has shape: (72, 20, 20) (Nframes, Nfeatures, Nfeatures)\n"
     ]
    }
   ],
   "source": [
    "total_video_fragments = len(list(dict_covs.keys()))\n",
    "\n",
    "print(f'ALL subjects are from the same class:  [{selected_data}]\\nTotal of video fragments for this class: {total_video_fragments}\\nEach one has shape: {dict_covs[\"0001\"].shape} (Nframes, Nfeatures, Nfeatures)')"
   ]
  }
 ],
 "metadata": {
  "kernelspec": {
   "display_name": ".venv",
   "language": "python",
   "name": "python3"
  },
  "language_info": {
   "codemirror_mode": {
    "name": "ipython",
    "version": 3
   },
   "file_extension": ".py",
   "mimetype": "text/x-python",
   "name": "python",
   "nbconvert_exporter": "python",
   "pygments_lexer": "ipython3",
   "version": "3.9.13"
  }
 },
 "nbformat": 4,
 "nbformat_minor": 2
}
