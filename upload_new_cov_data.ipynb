{
 "cells": [
  {
   "cell_type": "code",
   "execution_count": 1,
   "metadata": {},
   "outputs": [],
   "source": [
    "import pickle\n",
    "import numpy as np"
   ]
  },
  {
   "cell_type": "markdown",
   "metadata": {},
   "source": [
    "# TRAIN TEST DATA"
   ]
  },
  {
   "cell_type": "code",
   "execution_count": 2,
   "metadata": {},
   "outputs": [],
   "source": [
    "with open('data/densetnet201-4-CovsDict.pkl', 'rb') as file:\n",
    "    dict_covs = pickle.load(file)"
   ]
  },
  {
   "cell_type": "code",
   "execution_count": 7,
   "metadata": {},
   "outputs": [
    {
     "data": {
      "text/plain": [
       "(72, 20, 20)"
      ]
     },
     "execution_count": 7,
     "metadata": {},
     "output_type": "execute_result"
    }
   ],
   "source": [
    "# dict_covs.keys()\n",
    "dict_covs['CG_0001']['0001'].shape"
   ]
  },
  {
   "cell_type": "code",
   "execution_count": 15,
   "metadata": {},
   "outputs": [
    {
     "name": "stdout",
     "output_type": "stream",
     "text": [
      "New total of subjects: 37 | Control: 23 | Parkinson: 14\n",
      "Total of Control subjects we have been used: 11 | Parkinson: 11\n",
      "Total of Control subjects we can now test: 12 | Parkinson: 3\n",
      "Everyone has 8 video samples. Just in the test subjects there are 2 patients with 16 samples. \n",
      "Test subjects: Control --> ['CG_0023', 'CG_0024', 'CG_0025', 'CG_0027', 'CG_0030', 'CG_0039', 'CG_0040', 'CG_0041', 'CG_0042', 'CG_0043', 'CG_0044', 'CG_0045']   |  Parkinson --> ['PG_0026', 'PG_0028', 'PG_0029']\n",
      "Subject PG_0028 keys: dict_keys(['0001', '0002', '0003', '0004', '0005', '0006', '0007', '0008', '0009', '0010', '0011', '0012', '0013', '0014', '0015', '0016'])\n",
      "Subject PG_0029 keys: dict_keys(['0001', '0002', '0003', '0004', '0005', '0006', '0007', '0008', '0009', '0010', '0011', '0012', '0013', '0014', '0015', '0016'])\n"
     ]
    }
   ],
   "source": [
    "number_of_subjects = len(dict_covs.keys())\n",
    "control_subjects = [key for key in dict_covs.keys() if 'CG' in key]\n",
    "parkinson_subjects = [key for key in dict_covs.keys() if 'PG' in key]\n",
    "trainval_control_subject = control_subjects[:11]\n",
    "trainval_parkinson_subject = parkinson_subjects[:11]\n",
    "test_control_subject = control_subjects[11:]\n",
    "test_parkinson_subject = parkinson_subjects[11:]\n",
    "\n",
    "print(f'New total of subjects: {number_of_subjects} | Control: {len(control_subjects)} | Parkinson: {len(parkinson_subjects)}')\n",
    "print(f'Total of Control subjects we have been used: {len(trainval_control_subject)} | Parkinson: {len(trainval_parkinson_subject)}')\n",
    "print(f'Total of Control subjects we can now test: {len(test_control_subject)} | Parkinson: {len(test_parkinson_subject)}')\n",
    "\n",
    "print(f'Everyone has 8 video samples. Just in the test subjects there are 2 patients with 16 samples. ')\n",
    "print(f'Test subjects: Control --> {test_control_subject}   |  Parkinson --> {test_parkinson_subject}')\n",
    "print(f'Subject PG_0028 keys: {dict_covs[\"PG_0028\"].keys()}')\n",
    "print(f'Subject PG_0029 keys: {dict_covs[\"PG_0029\"].keys()}')\n"
   ]
  },
  {
   "cell_type": "markdown",
   "metadata": {},
   "source": [
    "# LOAD EXTERNAL DATA\n",
    "\n",
    "Nomenclature:\n",
    "\n",
    "KOA == 'Knee osteoarthritis'\n",
    "    \n",
    "    - early == mild osteoarthritis.\n",
    "    \n",
    "    - middle == moderate osteoarthritis.\n",
    "    \n",
    "    - severe == severe osteoarthritis. \n",
    "\n",
    "NM == 'Normals'\n",
    "\n",
    "PD == 'Parkinson Disease'\n",
    "    \n",
    "    - middle == mild PD.\n",
    "    \n",
    "    - middleLate == moderate PD.\n",
    "    \n",
    "    - severe == severe PD. "
   ]
  },
  {
   "cell_type": "code",
   "execution_count": 9,
   "metadata": {},
   "outputs": [],
   "source": [
    "key_data = 'KOA_early'\n",
    "\n",
    "with open(f'data/densetnet201-4_covs_{key_data}.pkl', 'rb') as file:\n",
    "    dict_covs = pickle.load(file)"
   ]
  },
  {
   "cell_type": "code",
   "execution_count": 11,
   "metadata": {},
   "outputs": [
    {
     "data": {
      "text/plain": [
       "74"
      ]
     },
     "execution_count": 11,
     "metadata": {},
     "output_type": "execute_result"
    }
   ],
   "source": [
    "total_video_fragments = len(list(dict_covs.keys()))\n",
    "total_video_fragments"
   ]
  }
 ],
 "metadata": {
  "kernelspec": {
   "display_name": ".venv",
   "language": "python",
   "name": "python3"
  },
  "language_info": {
   "codemirror_mode": {
    "name": "ipython",
    "version": 3
   },
   "file_extension": ".py",
   "mimetype": "text/x-python",
   "name": "python",
   "nbconvert_exporter": "python",
   "pygments_lexer": "ipython3",
   "version": "3.10.12"
  }
 },
 "nbformat": 4,
 "nbformat_minor": 2
}
